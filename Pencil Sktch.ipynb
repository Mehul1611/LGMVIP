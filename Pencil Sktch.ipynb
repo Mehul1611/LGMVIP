{
 "cells": [
  {
   "cell_type": "markdown",
   "id": "f0c7980e",
   "metadata": {},
   "source": [
    "# Let's Grow More - \"Data Science Intern\"\n",
    "\n",
    "## LGMVIP - August 2023\n",
    "\n",
    "### By - Mehul Sharma"
   ]
  },
  {
   "cell_type": "markdown",
   "id": "dce1eeaa",
   "metadata": {},
   "source": [
    "## Beginner Task"
   ]
  },
  {
   "cell_type": "markdown",
   "id": "e918da34",
   "metadata": {},
   "source": [
    "### Task-3 -  : Image to Pencil Sketch with Python: "
   ]
  },
  {
   "cell_type": "code",
   "execution_count": 9,
   "id": "0612dc96",
   "metadata": {},
   "outputs": [
    {
     "name": "stdout",
     "output_type": "stream",
     "text": [
      "Requirement already satisfied: opencv-python in c:\\users\\hp\\anaconda3\\lib\\site-packages (4.8.0.74)\n",
      "Requirement already satisfied: numpy>=1.21.2 in c:\\users\\hp\\anaconda3\\lib\\site-packages (from opencv-python) (1.24.3)\n",
      "Note: you may need to restart the kernel to use updated packages.\n"
     ]
    }
   ],
   "source": [
    "pip install opencv-python\n"
   ]
  },
  {
   "cell_type": "code",
   "execution_count": 10,
   "id": "eeeb9596",
   "metadata": {},
   "outputs": [],
   "source": [
    "import cv2\n"
   ]
  },
  {
   "cell_type": "code",
   "execution_count": 11,
   "id": "9a8501c9",
   "metadata": {
    "scrolled": false
   },
   "outputs": [
    {
     "data": {
      "text/plain": [
       "-1"
      ]
     },
     "execution_count": 11,
     "metadata": {},
     "output_type": "execute_result"
    }
   ],
   "source": [
    "img = cv2.imread(r\"C:\\Users\\hp\\OneDrive\\Desktop\\LGM\\Img to Sketch\\OIP.jpeg\")\n",
    "cv2.imshow(\"Girl\",img)\n",
    "cv2.waitKey(0)"
   ]
  },
  {
   "cell_type": "markdown",
   "id": "bddab699",
   "metadata": {},
   "source": [
    "## GrayScale Conversion"
   ]
  },
  {
   "cell_type": "code",
   "execution_count": 12,
   "id": "4720aea9",
   "metadata": {},
   "outputs": [
    {
     "data": {
      "text/plain": [
       "-1"
      ]
     },
     "execution_count": 12,
     "metadata": {},
     "output_type": "execute_result"
    }
   ],
   "source": [
    "gim = cv2.cvtColor(img,cv2.COLOR_BGR2GRAY)\n",
    "cv2.imshow(\"New Beautiful Bird\", gim)\n",
    "cv2.waitKey(0)"
   ]
  },
  {
   "cell_type": "code",
   "execution_count": 13,
   "id": "93c779e7",
   "metadata": {},
   "outputs": [
    {
     "data": {
      "text/plain": [
       "-1"
      ]
     },
     "execution_count": 13,
     "metadata": {},
     "output_type": "execute_result"
    }
   ],
   "source": [
    "#Inverting the image\n",
    "\n",
    "ii = 255 - gim\n",
    "cv2.imshow(\"Inverted\", ii)\n",
    "cv2.waitKey()"
   ]
  },
  {
   "cell_type": "code",
   "execution_count": 14,
   "id": "d9f38e44",
   "metadata": {},
   "outputs": [],
   "source": [
    "#Blurring the image using Gaussian Function\n",
    "\n",
    "blr=cv2.GaussianBlur(ii,(21,21),0)"
   ]
  },
  {
   "cell_type": "code",
   "execution_count": 15,
   "id": "d395f6d4",
   "metadata": {},
   "outputs": [
    {
     "data": {
      "text/plain": [
       "-1"
      ]
     },
     "execution_count": 15,
     "metadata": {},
     "output_type": "execute_result"
    }
   ],
   "source": [
    "#invert the blur image\n",
    "\n",
    "ib=255-blr\n",
    "sktc=cv2.divide(gim,ib,scale=256.0)\n",
    "cv2.imshow(\"Sketch\",sktc)\n",
    "cv2.waitKey(0)"
   ]
  },
  {
   "cell_type": "code",
   "execution_count": 16,
   "id": "4ec2b91d",
   "metadata": {},
   "outputs": [
    {
     "data": {
      "text/plain": [
       "-1"
      ]
     },
     "execution_count": 16,
     "metadata": {},
     "output_type": "execute_result"
    }
   ],
   "source": [
    "cv2.imshow(\"original image\", img)\n",
    "cv2.imshow(\"pencil sketch\",sktc)\n",
    "cv2.waitKey(0)"
   ]
  },
  {
   "cell_type": "code",
   "execution_count": null,
   "id": "60ab25a3",
   "metadata": {},
   "outputs": [],
   "source": []
  }
 ],
 "metadata": {
  "kernelspec": {
   "display_name": "Python 3 (ipykernel)",
   "language": "python",
   "name": "python3"
  },
  "language_info": {
   "codemirror_mode": {
    "name": "ipython",
    "version": 3
   },
   "file_extension": ".py",
   "mimetype": "text/x-python",
   "name": "python",
   "nbconvert_exporter": "python",
   "pygments_lexer": "ipython3",
   "version": "3.11.3"
  }
 },
 "nbformat": 4,
 "nbformat_minor": 5
}
